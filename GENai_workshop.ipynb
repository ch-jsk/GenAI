{
  "cells": [
    {
      "cell_type": "markdown",
      "source": [
        "learning about genrative ai."
      ],
      "metadata": {
        "id": "bP828NbQpWHc"
      }
    },
    {
      "cell_type": "markdown",
      "metadata": {
        "id": "rlE8UqxrDIez"
      },
      "source": [
        "### Install & import\n"
      ]
    },
    {
      "cell_type": "code",
      "source": [
        "!pip install google-generativeai"
      ],
      "metadata": {
        "colab": {
          "base_uri": "https://localhost:8080/"
        },
        "id": "mz0iLTeL7F3U",
        "outputId": "efb99357-9820-4446-bff9-c5045ab500c2"
      },
      "execution_count": null,
      "outputs": [
        {
          "output_type": "stream",
          "name": "stdout",
          "text": [
            "Requirement already satisfied: google-generativeai in /usr/local/lib/python3.10/dist-packages (0.3.2)\n",
            "Requirement already satisfied: google-ai-generativelanguage==0.4.0 in /usr/local/lib/python3.10/dist-packages (from google-generativeai) (0.4.0)\n",
            "Requirement already satisfied: google-auth in /usr/local/lib/python3.10/dist-packages (from google-generativeai) (2.17.3)\n",
            "Requirement already satisfied: google-api-core in /usr/local/lib/python3.10/dist-packages (from google-generativeai) (2.11.1)\n",
            "Requirement already satisfied: typing-extensions in /usr/local/lib/python3.10/dist-packages (from google-generativeai) (4.5.0)\n",
            "Requirement already satisfied: protobuf in /usr/local/lib/python3.10/dist-packages (from google-generativeai) (3.20.3)\n",
            "Requirement already satisfied: tqdm in /usr/local/lib/python3.10/dist-packages (from google-generativeai) (4.66.1)\n",
            "Requirement already satisfied: proto-plus<2.0.0dev,>=1.22.3 in /usr/local/lib/python3.10/dist-packages (from google-ai-generativelanguage==0.4.0->google-generativeai) (1.23.0)\n",
            "Requirement already satisfied: googleapis-common-protos<2.0.dev0,>=1.56.2 in /usr/local/lib/python3.10/dist-packages (from google-api-core->google-generativeai) (1.62.0)\n",
            "Requirement already satisfied: requests<3.0.0.dev0,>=2.18.0 in /usr/local/lib/python3.10/dist-packages (from google-api-core->google-generativeai) (2.31.0)\n",
            "Requirement already satisfied: cachetools<6.0,>=2.0.0 in /usr/local/lib/python3.10/dist-packages (from google-auth->google-generativeai) (5.3.2)\n",
            "Requirement already satisfied: pyasn1-modules>=0.2.1 in /usr/local/lib/python3.10/dist-packages (from google-auth->google-generativeai) (0.3.0)\n",
            "Requirement already satisfied: six>=1.9.0 in /usr/local/lib/python3.10/dist-packages (from google-auth->google-generativeai) (1.16.0)\n",
            "Requirement already satisfied: rsa<5,>=3.1.4 in /usr/local/lib/python3.10/dist-packages (from google-auth->google-generativeai) (4.9)\n",
            "Requirement already satisfied: grpcio<2.0dev,>=1.33.2 in /usr/local/lib/python3.10/dist-packages (from google-api-core->google-generativeai) (1.60.0)\n",
            "Requirement already satisfied: grpcio-status<2.0.dev0,>=1.33.2 in /usr/local/lib/python3.10/dist-packages (from google-api-core->google-generativeai) (1.48.2)\n",
            "Requirement already satisfied: pyasn1<0.6.0,>=0.4.6 in /usr/local/lib/python3.10/dist-packages (from pyasn1-modules>=0.2.1->google-auth->google-generativeai) (0.5.1)\n",
            "Requirement already satisfied: charset-normalizer<4,>=2 in /usr/local/lib/python3.10/dist-packages (from requests<3.0.0.dev0,>=2.18.0->google-api-core->google-generativeai) (3.3.2)\n",
            "Requirement already satisfied: idna<4,>=2.5 in /usr/local/lib/python3.10/dist-packages (from requests<3.0.0.dev0,>=2.18.0->google-api-core->google-generativeai) (3.6)\n",
            "Requirement already satisfied: urllib3<3,>=1.21.1 in /usr/local/lib/python3.10/dist-packages (from requests<3.0.0.dev0,>=2.18.0->google-api-core->google-generativeai) (2.0.7)\n",
            "Requirement already satisfied: certifi>=2017.4.17 in /usr/local/lib/python3.10/dist-packages (from requests<3.0.0.dev0,>=2.18.0->google-api-core->google-generativeai) (2023.11.17)\n"
          ]
        }
      ]
    },
    {
      "cell_type": "code",
      "execution_count": null,
      "metadata": {
        "id": "kWIuwKG2_oWE"
      },
      "outputs": [],
      "source": [
        "# Install the client library and import necessary modules.\n",
        "#!pip install google-generativeai\n",
        "import google.generativeai as genai\n",
        "import json\n",
        "import pathlib\n",
        "import pprint\n",
        "import requests\n",
        "import mimetypes\n",
        "from IPython.display import Markdown"
      ]
    },
    {
      "cell_type": "markdown",
      "metadata": {
        "id": "Fet3lFjdKHEM"
      },
      "source": [
        "## Set the API key"
      ]
    },
    {
      "cell_type": "markdown",
      "metadata": {
        "id": "ZoRWILAtCzBE"
      },
      "source": [
        "\n",
        "## **Add your API_KEY to the secrets manager in the left pannel \"🔑\".**\n",
        "\n",
        "#### To get api key follw the steps:\n",
        "  - go to makersuite.google.com\n",
        "  - If you are a first time user then you'll be asked for privacy and agreement\n",
        "  - After accepting navigate to the left panel.\n",
        "  - You will find a button saying \"Get API Key\" placed exactly below google ai studio, click that.\n",
        "  - Then you will be redirected to API keys page.\n",
        "  - There will be a button saying \"Create API key in new project\", click that.\n",
        "  - After that you will get your api key in few moments.\n",
        "  - Copy that and paste it in key secrets in google colab."
      ]
    },
    {
      "cell_type": "code",
      "source": [
        "from google.colab import userdata\n",
        "\n",
        "API_KEY=userdata.get('API_Key')"
      ],
      "metadata": {
        "id": "PN2DOMXMo2SM"
      },
      "execution_count": null,
      "outputs": []
    },
    {
      "cell_type": "code",
      "execution_count": null,
      "metadata": {
        "id": "_SvYoR3WCeKr"
      },
      "outputs": [],
      "source": [
        "# Configure the client library by providing your API key.\n",
        "genai.configure(api_key=API_KEY)"
      ]
    },
    {
      "cell_type": "markdown",
      "metadata": {
        "id": "weo-o73WDpdm"
      },
      "source": [
        "### Parse the arguments"
      ]
    },
    {
      "cell_type": "code",
      "execution_count": null,
      "metadata": {
        "colab": {
          "base_uri": "https://localhost:8080/",
          "height": 256
        },
        "id": "sdf61R_WGgUx",
        "outputId": "fb6aa7c2-dad7-4a2c-925f-bf9be0ae303c"
      },
      "outputs": [
        {
          "output_type": "display_data",
          "data": {
            "text/plain": [
              "<IPython.core.display.Markdown object>"
            ],
            "text/markdown": "Hello from DevFest Surat!\n\nI'm excited to be here at DevFest Surat, where developers from all over the world are gathered to learn about the latest in technology. This is a great opportunity to connect with other developers, share ideas, and learn from each other.\n\nI'm particularly interested in the talks on artificial intelligence and machine learning. I think these technologies have the potential to revolutionize the way we live and work. I'm also looking forward to learning more about the latest developments in web development and mobile app development.\n\nDevFest Surat is a great event for anyone who is interested in technology. I'm sure I'll learn a lot and make some valuable connections.\n\nIn addition to the talks, there are also a number of workshops and hackathons happening at DevFest Surat. These are a great way to get hands-on experience with new technologies. I'm planning on attending a few of the workshops on React Native and TensorFlow.\n\nI'm really excited to be here at DevFest Surat. This is a great opportunity to learn about the latest in technology and connect with other developers. I'm sure I'll have a great time.\n\nThank you for having me!"
          },
          "metadata": {}
        }
      ],
      "source": [
        "generation_config = {\n",
        "  \"temperature\": 0.9,\n",
        "  \"top_p\": 1,\n",
        "  \"top_k\": 1,\n",
        "  \"max_output_tokens\": 2048,\n",
        "}\n",
        "\n",
        "safety_settings = [\n",
        "  {\n",
        "    \"category\": \"HARM_CATEGORY_HARASSMENT\",\n",
        "    \"threshold\": \"BLOCK_MEDIUM_AND_ABOVE\"\n",
        "  },\n",
        "  {\n",
        "    \"category\": \"HARM_CATEGORY_HATE_SPEECH\",\n",
        "    \"threshold\": \"BLOCK_MEDIUM_AND_ABOVE\"\n",
        "  },\n",
        "  {\n",
        "    \"category\": \"HARM_CATEGORY_SEXUALLY_EXPLICIT\",\n",
        "    \"threshold\": \"BLOCK_MEDIUM_AND_ABOVE\"\n",
        "  },\n",
        "  {\n",
        "    \"category\": \"HARM_CATEGORY_DANGEROUS_CONTENT\",\n",
        "    \"threshold\": \"BLOCK_MEDIUM_AND_ABOVE\"\n",
        "  }\n",
        "]\n",
        "\n",
        "model = genai.GenerativeModel(model_name=\"gemini-pro\",\n",
        "                              generation_config=generation_config,\n",
        "                              safety_settings=safety_settings)\n",
        "\n",
        "prompt_parts = [\"Hello from DevFest Surat\"]\n",
        "\n",
        "response = model.generate_content(prompt_parts)\n",
        "display(Markdown(response.text))"
      ]
    },
    {
      "cell_type": "markdown",
      "metadata": {
        "id": "E7zAD69vE92b"
      },
      "source": [
        "### Call the API"
      ]
    },
    {
      "cell_type": "code",
      "execution_count": null,
      "metadata": {
        "id": "LB2LxPmAB95V"
      },
      "outputs": [],
      "source": [
        "# Call the model and print the response.\n",
        "gemini =  genai.GenerativeModel(model_name=\"gemini-pro\",\n",
        "                              generation_config=generation_config,\n",
        "                              safety_settings=safety_settings)"
      ]
    },
    {
      "cell_type": "code",
      "execution_count": null,
      "metadata": {
        "id": "lqMoCCRAlV3T"
      },
      "outputs": [],
      "source": [
        "chat = gemini.start_chat()"
      ]
    },
    {
      "cell_type": "code",
      "execution_count": null,
      "metadata": {
        "id": "4TG6RiVDlV3U"
      },
      "outputs": [],
      "source": [
        "choice = 0"
      ]
    },
    {
      "cell_type": "code",
      "execution_count": null,
      "metadata": {
        "id": "zS4lcVV1lV3V",
        "outputId": "bac94e8c-dfaf-494a-9609-3005e46d0f6d",
        "colab": {
          "base_uri": "https://localhost:8080/",
          "height": 1000
        }
      },
      "outputs": [
        {
          "name": "stdout",
          "output_type": "stream",
          "text": [
            "Your Question Here: hi how are you\n"
          ]
        },
        {
          "output_type": "display_data",
          "data": {
            "text/plain": [
              "<IPython.core.display.Markdown object>"
            ],
            "text/markdown": "I am a large language model, trained by Google."
          },
          "metadata": {}
        },
        {
          "name": "stdout",
          "output_type": "stream",
          "text": [
            "\n",
            "\n",
            "\u001b[33mTo continue conversation type \"1\" else type \"2\"\u001b[0m\n",
            "\u001b[31m\u001b[6;1mAny other response will continue the conversation \u001b[0m \n",
            "\n",
            "Enter your choice here: 1\n",
            "\n",
            "Your Question Here: who is prime minister in india 2004\n"
          ]
        },
        {
          "output_type": "display_data",
          "data": {
            "text/plain": [
              "<IPython.core.display.Markdown object>"
            ],
            "text/markdown": "Manmohan Singh was the Prime Minister of India from 2004 to 2014."
          },
          "metadata": {}
        },
        {
          "name": "stdout",
          "output_type": "stream",
          "text": [
            "\n",
            "\n",
            "\u001b[33mTo continue conversation type \"1\" else type \"2\"\u001b[0m\n",
            "\u001b[31m\u001b[6;1mAny other response will continue the conversation \u001b[0m \n",
            "\n",
            "Enter your choice here: 1\n",
            "\n",
            "Your Question Here: how was your day\n"
          ]
        },
        {
          "output_type": "display_data",
          "data": {
            "text/plain": [
              "<IPython.core.display.Markdown object>"
            ],
            "text/markdown": "As an AI language model, I don't have personal experiences or feelings, so I don't have days or the ability to have good or bad days. I don't possess consciousness or the capacity for subjective experiences. My purpose is to assist users with information and answer their questions to the best of my abilities.\n\nMay I help you with anything else?"
          },
          "metadata": {}
        },
        {
          "name": "stdout",
          "output_type": "stream",
          "text": [
            "\n",
            "\n",
            "\u001b[33mTo continue conversation type \"1\" else type \"2\"\u001b[0m\n",
            "\u001b[31m\u001b[6;1mAny other response will continue the conversation \u001b[0m \n",
            "\n",
            "Enter your choice here: 1\n",
            "\n",
            "Your Question Here: hihi\n"
          ]
        },
        {
          "output_type": "display_data",
          "data": {
            "text/plain": [
              "<IPython.core.display.Markdown object>"
            ],
            "text/markdown": "Hello! How can I assist you today?"
          },
          "metadata": {}
        },
        {
          "output_type": "stream",
          "name": "stdout",
          "text": [
            "\n",
            "\n",
            "\u001b[33mTo continue conversation type \"1\" else type \"2\"\u001b[0m\n",
            "\u001b[31m\u001b[6;1mAny other response will continue the conversation \u001b[0m \n",
            "\n",
            "Enter your choice here: 4\n",
            "\n",
            "Your Question Here: 2\n",
            "\n",
            "\n",
            " block_reason: SAFETY\n",
            "safety_ratings {\n",
            "  category: HARM_CATEGORY_SEXUALLY_EXPLICIT\n",
            "  probability: NEGLIGIBLE\n",
            "}\n",
            "safety_ratings {\n",
            "  category: HARM_CATEGORY_HATE_SPEECH\n",
            "  probability: LOW\n",
            "}\n",
            "safety_ratings {\n",
            "  category: HARM_CATEGORY_HARASSMENT\n",
            "  probability: MEDIUM\n",
            "}\n",
            "safety_ratings {\n",
            "  category: HARM_CATEGORY_DANGEROUS_CONTENT\n",
            "  probability: NEGLIGIBLE\n",
            "}\n",
            "\n"
          ]
        }
      ],
      "source": [
        "while(choice != 2):\n",
        "    try:\n",
        "        ques = input(\"Your Question Here: \")\n",
        "        response = chat.send_message(\n",
        "            ques)\n",
        "        display(Markdown(response.text))\n",
        "        print('\\n\\n\\x1b[33mTo continue conversation type \"1\" else type \"2\"\\x1b[0m')\n",
        "        print('\\x1b[31m\\x1b[6;1mAny other response will continue the conversation \\x1b[0m ')\n",
        "        choice = int(input('\\nEnter your choice here: '))\n",
        "        print()\n",
        "        if(choice == 2):\n",
        "            print(\"\"\"\\x1b[32mAs you selected 2 the chat has ended. \\nThank you, to restart chat, run this cell again.\n",
        "                  \\x1b[0m\"\"\")\n",
        "            choice = 0\n",
        "            break\n",
        "    except Exception as e:\n",
        "        print(\"\\n\\n\",e)"
      ]
    },
    {
      "cell_type": "code",
      "source": [],
      "metadata": {
        "id": "jmlg2SCYqYD0"
      },
      "execution_count": null,
      "outputs": []
    }
  ],
  "metadata": {
    "colab": {
      "provenance": []
    },
    "kernelspec": {
      "display_name": "Python 3 (ipykernel)",
      "language": "python",
      "name": "python3"
    },
    "language_info": {
      "codemirror_mode": {
        "name": "ipython",
        "version": 3
      },
      "file_extension": ".py",
      "mimetype": "text/x-python",
      "name": "python",
      "nbconvert_exporter": "python",
      "pygments_lexer": "ipython3",
      "version": "3.11.5"
    }
  },
  "nbformat": 4,
  "nbformat_minor": 0
}